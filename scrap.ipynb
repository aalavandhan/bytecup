{
 "cells": [
  {
   "cell_type": "code",
   "execution_count": 17,
   "metadata": {
    "collapsed": true
   },
   "outputs": [],
   "source": [
    "import numpy as np\n",
    "import pandas as pd\n",
    "from scipy.stats import pearsonr\n",
    "import sklearn.utils\n",
    "import math\n"
   ]
  },
  {
   "cell_type": "code",
   "execution_count": 34,
   "metadata": {
    "collapsed": false
   },
   "outputs": [
    {
     "name": "stdout",
     "output_type": "stream",
     "text": [
      "216261\n",
      "29491\n",
      "245752\n",
      "245752\n"
     ]
    }
   ],
   "source": [
    "user_info = pd.read_csv(\"data/user-features\")\n",
    "question_info = pd.read_csv(\"data/question-features\")\n",
    "train_info = pd.read_csv(\"data/invited_info_train.txt\", sep=\"\\t\", header=None, names=[\n",
    "    \"question_id\", \"user_id\", \"answered\"\n",
    "])\n",
    "\n",
    "c1 = train_info[train_info.answered == 0]\n",
    "c2 = train_info[train_info.answered == 1]\n",
    "\n",
    "c1 = sklearn.utils.shuffle(c1, random_state=123)\n",
    "c2 = sklearn.utils.shuffle(c2, random_state=123)\n",
    "\n",
    "VALIDATION_RATIO = 0.12\n",
    "VALIDATION_C1_SIZE  = int(math.ceil( len(c1) * VALIDATION_RATIO ))\n",
    "VALIDATION_C2_SIZE  = int(math.ceil( len(c2) * VALIDATION_RATIO ))\n",
    "\n",
    "# Training\n",
    "train = pd.concat([ c1[:-VALIDATION_C1_SIZE], c2[:-VALIDATION_C2_SIZE] ])\n",
    "test  = pd.concat([ c1[-VALIDATION_C1_SIZE:], c2[-VALIDATION_C2_SIZE:] ])\n",
    "\n",
    "# Validation\n"
   ]
  },
  {
   "cell_type": "code",
   "execution_count": null,
   "metadata": {
    "collapsed": true
   },
   "outputs": [],
   "source": [
    "res = test_info[['question_id', 'user_id']].copy()\n",
    "res['prediction'] = recommendations\n",
    "res.columns = ['qid','uid','label']\n",
    "res.to_csv('results.csv', sep=\",\", index=None)"
   ]
  }
 ],
 "metadata": {
  "anaconda-cloud": {},
  "kernelspec": {
   "display_name": "Python [Root]",
   "language": "python",
   "name": "Python [Root]"
  },
  "language_info": {
   "codemirror_mode": {
    "name": "ipython",
    "version": 2
   },
   "file_extension": ".py",
   "mimetype": "text/x-python",
   "name": "python",
   "nbconvert_exporter": "python",
   "pygments_lexer": "ipython2",
   "version": "2.7.12"
  }
 },
 "nbformat": 4,
 "nbformat_minor": 0
}
