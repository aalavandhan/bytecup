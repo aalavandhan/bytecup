{
 "cells": [
  {
   "cell_type": "code",
   "execution_count": 101,
   "metadata": {
    "collapsed": true
   },
   "outputs": [],
   "source": [
    "import numpy as np\n",
    "import pandas as pd\n",
    "import scipy\n",
    "import matplotlib.pyplot as plt\n",
    "from sklearn import linear_model\n",
    "%matplotlib inline"
   ]
  },
  {
   "cell_type": "code",
   "execution_count": 121,
   "metadata": {
    "collapsed": false
   },
   "outputs": [],
   "source": [
    "user_info = pd.read_csv(\"data/user-features\")\n",
    "question_info = pd.read_csv(\"data/question-features\")\n",
    "train_info = pd.read_csv(\"data/invited_info_train.txt\", sep=\"\\t\", header=None, names=[\n",
    "    \"question_id\", \"user_id\", \"answered\"\n",
    "])\n",
    "test_info = pd.read_csv(\"data/validate_nolabel.txt\", sep=\",\", names=[\n",
    "    \"question_id\", \"user_id\", \"answered\"\n",
    "])\n",
    "\n",
    "TRAIN_DATA = train_info.merge(question_info, left_on='question_id', right_on='question_id', how='inner')\n",
    "TRAIN_DATA = TRAIN_DATA.merge(user_info, left_on='user_id', right_on='user_id', how='inner')\n",
    "\n",
    "TEST_DATA = test_info.merge(question_info, left_on='question_id', right_on='question_id', how='inner')\n",
    "TEST_DATA = TEST_DATA.merge(user_info, left_on='user_id', right_on='user_id', how='inner')\n",
    "\n",
    "FEATURES = [ \n",
    "#   \"tag\", \"upvotes\", \"answers\", \"top_answers\",'answerability', \n",
    "  'nTag', 'votability', 'ease', 'popularity', 'answerability', \n",
    "  'wq1', 'wq2', 'wq3', 'wq4', 'wq5', 'wq6', 'wq7', 'wq8', 'wq9', 'wq10', \n",
    "  'cq1', 'cq2','cq3', 'cq4', 'cq5', 'cq6', 'cq7', 'cq8', 'cq9', 'cq10', \n",
    "  't1', 't2', 't3', 't4', 't5', \n",
    "  'w1', 'w2', 'w3', 'w4', 'w5', 'w6', 'w7', 'w8', 'w9', 'w10', \n",
    "  'c1', 'c2', 'c3', 'c4', 'c5', 'c6', 'c7', 'c8', 'c9', 'c10'\n",
    "]\n",
    "\n",
    "TARGET = 'answered'"
   ]
  },
  {
   "cell_type": "code",
   "execution_count": 118,
   "metadata": {
    "collapsed": false
   },
   "outputs": [],
   "source": [
    "model = linear_model.LogisticRegression(\n",
    "    penalty='l2', \n",
    "    dual=False, \n",
    "    tol=0.0001, \n",
    "    C=1.0, \n",
    "    fit_intercept=True, \n",
    "    intercept_scaling=1, \n",
    "    class_weight='balanced', \n",
    "    random_state=None, \n",
    "    solver='liblinear', \n",
    "    max_iter=1000, \n",
    "    multi_class='ovr', \n",
    "    verbose=0, \n",
    "    warm_start=False, \n",
    "    n_jobs=1\n",
    ")\n",
    "model.fit(TRAIN_DATA[FEATURES], TRAIN_DATA[TARGET])\n",
    "predictions = model.predict_proba(TEST_DATA[FEATURES])"
   ]
  },
  {
   "cell_type": "code",
   "execution_count": 119,
   "metadata": {
    "collapsed": false
   },
   "outputs": [],
   "source": [
    "res = TEST_DATA[['question_id', 'user_id']].copy()\n",
    "res['prediction'] = predictions[:,1]\n",
    "res.columns = ['qid','uid','label']\n",
    "res.to_csv('results.csv', sep=\",\", index=None)"
   ]
  }
 ],
 "metadata": {
  "kernelspec": {
   "display_name": "Python [Root]",
   "language": "python",
   "name": "Python [Root]"
  },
  "language_info": {
   "codemirror_mode": {
    "name": "ipython",
    "version": 2
   },
   "file_extension": ".py",
   "mimetype": "text/x-python",
   "name": "python",
   "nbconvert_exporter": "python",
   "pygments_lexer": "ipython2",
   "version": "2.7.12"
  }
 },
 "nbformat": 4,
 "nbformat_minor": 0
}
