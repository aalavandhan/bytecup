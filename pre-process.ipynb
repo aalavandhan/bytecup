{
 "cells": [
  {
   "cell_type": "code",
   "execution_count": 3,
   "metadata": {
    "collapsed": false
   },
   "outputs": [],
   "source": [
    "import numpy as np\n",
    "import pandas as pd\n",
    "import scipy\n",
    "import matplotlib.pyplot as plt\n",
    "%matplotlib inline"
   ]
  },
  {
   "cell_type": "code",
   "execution_count": 4,
   "metadata": {
    "collapsed": false,
    "scrolled": false
   },
   "outputs": [],
   "source": [
    "user_info = pd.read_csv(\"data/user_info.txt\", sep=\"\\t\", header=None, names=[\n",
    "    \"user_id\", \"expert_tags\", \"word_id\", \"char_id\"\n",
    "])\n",
    "question_info = pd.read_csv(\"data/question_info.txt\", sep=\"\\t\", header=None, names=[\n",
    "    \"question_id\", \"tag\", \"word_id\", \"char_id\", \"upvotes\", \"answers\", \"top_answers\"\n",
    "])\n",
    "\n",
    "train_info = pd.read_csv(\"data/invited_info_train.txt\", sep=\"\\t\", header=None, names=[\n",
    "    \"question_id\", \"user_id\", \"answered\"\n",
    "])\n",
    "\n",
    "safeInt = lambda v: int(v) if v != '' else None\n",
    "cleanFeature = lambda r: map(safeInt, r.split('/'))\n",
    "\n",
    "# single time computation\n",
    "find_max = lambda v: max(cleanFeature(v))\n",
    "find_min = lambda v: min(cleanFeature(v))\n",
    "\n",
    "# Computing the parameter ranges to vectorize user parameters\n",
    "USER_TAG = [0, 142]\n",
    "# max_expert_tag = user_info['expert_tags'].apply(find_max).max()\n",
    "# min_expert_tag = user_info['expert_tags'].apply(find_min).min()\n",
    "\n",
    "USER_WORD_ID = [0, 37809]\n",
    "# max_word_id = user_info['word_id'].apply(find_max).max()\n",
    "# min_word_id = user_info['word_id'].apply(find_max).min()\n",
    "\n",
    "USER_CHAR_ID = [0, 4021]\n",
    "# max_char_id = user_info['char_id'].apply(find_max).max()\n",
    "# min_char_id = user_info['char_id'].apply(find_max).max()\n",
    "\n",
    "QUESTION_TAG = [0, 19]\n",
    "# max_question_tag = question_info['tag'].max()\n",
    "# min_question_tag = question_info['tag'].min()\n",
    "\n",
    "QUESTION_WORD_ID = [0, 13230]\n",
    "# max_word_id = question_info['word_id'].apply(find_max).max()\n",
    "# min_word_id = question_info['word_id'].apply(find_max).max()\n",
    "\n",
    "QUESTION_CHAR_ID = [0, 2958]\n",
    "# max_char_id = question_info['char_id'].apply(find_max).max()\n",
    "# min_char_id = question_info['char_id'].apply(find_max).max()\n",
    "\n",
    "question_info['ease'] = ( question_info['answers'] - question_info['answers'].min()  ) / question_info['answers'].max()\n",
    "question_info['popularity'] = ( question_info['top_answers'] - question_info['top_answers'].min() ) / question_info['top_answers'].max()\n",
    "question_info['votability'] = ( question_info['upvotes'] - question_info['upvotes'].min() ) / question_info['upvotes'].max()\n",
    "question_info['nTag'] = ( question_info['tag'] - question_info['tag'].min() ) / question_info['tag'].max()\n",
    "question_info['answerability'] = ( question_info['top_answers'] / question_info['answers'] )\n",
    "question_info['answerability'] =  question_info['answerability'].fillna(0)\n",
    "\n",
    "# ASKED vs ANSWERED\n",
    "answered = train_info[ train_info.answered == 1 ].groupby('user_id').count()['answered']\n",
    "asked = train_info.groupby('user_id').count()['answered'].rename('asked')\n",
    "user_info = user_info.join(answered, on=\"user_id\", how=\"left\" ).join(asked, on=\"user_id\", how=\"left\" )\n",
    "user_info['answered'] =  user_info['answered'].fillna(0)\n",
    "user_info['asked']    =  user_info['asked'].fillna(0)\n",
    "\n",
    "answered = train_info[ train_info.answered == 1 ].groupby('question_id').count()['answered']\n",
    "asked = train_info.groupby('question_id').count()['answered'].rename('asked')\n",
    "question_info = question_info.join(answered, on=\"question_id\", how=\"left\" ).join(asked, on=\"question_id\", how=\"left\")\n",
    "question_info['answered'] =  question_info['answered'].fillna(0)\n",
    "question_info['asked']    =  question_info['asked'].fillna(0)"
   ]
  },
  {
   "cell_type": "code",
   "execution_count": 403,
   "metadata": {
    "collapsed": false
   },
   "outputs": [],
   "source": [
    "def expand(df):\n",
    "    row  = [ ]\n",
    "    col  = [ ]\n",
    "    data = [ ]\n",
    "    for i in df.index:\n",
    "        for e in [x for x in df.ix[i] if x is not None]:\n",
    "            row.append(i)\n",
    "            col.append(e)\n",
    "            data.append(1)  \n",
    "    return (row, col, data)\n",
    "\n",
    "def vectorize(ds, column):\n",
    "    splitFeatures = ds[column].apply(cleanFeature)\n",
    "    return expand(splitFeatures)\n",
    "\n",
    "def writeResults(fileName, data):\n",
    "    f = open(\"data/\" + fileName, \"w+\")\n",
    "    for d in data:\n",
    "        f.write(\",\".join(map(str, d)))\n",
    "        f.write(\"\\n\")\n",
    "    f.close()"
   ]
  },
  {
   "cell_type": "code",
   "execution_count": 330,
   "metadata": {
    "collapsed": false
   },
   "outputs": [],
   "source": [
    "import libpmf.libpmf as libpmf\n",
    "from scipy import sparse\n",
    "\n",
    "def MF(d, column, f1, f2, k=5):\n",
    "    (row, col, data) = vectorize(d, column)\n",
    "    V = scipy.sparse.csr_matrix((data, (row, col)))\n",
    "    model = libpmf.train(V, '-k {0} -l 0.1 -t {0}'.format(k))\n",
    "    writeResults(f1, model['W'])\n",
    "    writeResults(f2, model['H'])\n",
    "\n",
    "MF(user_info, \"expert_tags\", 'user-expert-latent', 'expert-user-latent', 5)\n",
    "MF(user_info, \"word_id\", 'user-word-latent', 'word-user-latent', 10)\n",
    "MF(user_info, \"char_id\", 'user-char-latent', 'char-user-latent', 10)\n",
    "MF(question_info, \"word_id\", 'question-word-latent', 'word-question-latent', 10)\n",
    "MF(question_info, \"char_id\", 'question-char-latent', 'char-question-latent', 10)"
   ]
  },
  {
   "cell_type": "code",
   "execution_count": 419,
   "metadata": {
    "collapsed": false
   },
   "outputs": [],
   "source": [
    "question_word_latent = pd.read_csv(\"data/question-word-latent\", sep=\",\", header=None, names=[\n",
    "    \"wq1\", \"wq2\", \"wq3\", \"wq4\", \"wq5\", \"wq6\", \"wq7\", \"wq8\", \"wq9\", \"wq10\"\n",
    "])\n",
    "question_char_latent = pd.read_csv(\"data/question-char-latent\", sep=\",\", header=None, names=[\n",
    "    \"cq1\", \"cq2\", \"cq3\", \"cq4\", \"cq5\", \"cq6\", \"cq7\", \"cq8\", \"cq9\", \"cq10\"\n",
    "])\n",
    "question_info = pd.concat([question_info, question_word_latent, question_char_latent], axis=1, join_axes=[question_info.index])\n",
    "\n",
    "user_word_latent = pd.read_csv(\"data/user-word-latent\", sep=\",\", header=None, names=[\n",
    "    \"w1\", \"w2\", \"w3\", \"w4\", \"w5\", \"w6\", \"w7\", \"w8\", \"w9\", \"w10\"\n",
    "])\n",
    "user_char_latent = pd.read_csv(\"data/user-char-latent\", sep=\",\", header=None, names=[\n",
    "    \"c1\", \"c2\", \"c3\", \"c4\", \"c5\", \"c6\", \"c7\", \"c8\", \"c9\", \"c10\"\n",
    "])\n",
    "user_expert_latent = pd.read_csv(\"data/user-expert-latent\", sep=\",\", header=None, names=[\n",
    "    \"t1\", \"t2\", \"t3\", \"t4\", \"t5\"\n",
    "])\n",
    "user_info = pd.concat([user_info, user_word_latent, user_char_latent, user_expert_latent], axis=1, join_axes=[user_info.index])"
   ]
  },
  {
   "cell_type": "code",
   "execution_count": 424,
   "metadata": {
    "collapsed": false
   },
   "outputs": [],
   "source": [
    "user_info.index = user_info['user_id']\n",
    "question_info.index = question_info['question_id']\n",
    "user_info.to_csv(\"data/user-features\", sep=\",\", columns=[\n",
    "    \"t1\", \"t2\", \"t3\", \"t4\", \"t5\",\n",
    "    \"w1\", \"w2\", \"w3\", \"w4\", \"w5\", \"w6\", \"w7\", \"w8\", \"w9\", \"w10\",\n",
    "    \"c1\", \"c2\", \"c3\", \"c4\", \"c5\", \"c6\", \"c7\", \"c8\", \"c9\", \"c10\",\n",
    "])\n",
    "question_info.to_csv(\"data/question-features\", sep=\",\", columns=[\n",
    "    \"tag\", \"upvotes\", \"answers\", \"top_answers\",\n",
    "    \"nTag\", \"votability\", \"ease\", \"popularity\", \"answerability\",\n",
    "    \"wq1\", \"wq2\", \"wq3\", \"wq4\", \"wq5\", \"wq6\", \"wq7\", \"wq8\", \"wq9\", \"wq10\",\n",
    "    \"cq1\", \"cq2\", \"cq3\", \"cq4\", \"cq5\", \"cq6\", \"cq7\", \"cq8\", \"cq9\", \"cq10\",\n",
    "])"
   ]
  },
  {
   "cell_type": "code",
   "execution_count": 383,
   "metadata": {
    "collapsed": false,
    "scrolled": true
   },
   "outputs": [
    {
     "name": "stdout",
     "output_type": "stream",
     "text": [
      "Distribution of answerability\n"
     ]
    },
    {
     "data": {
      "image/png": "[encoded data removed]",
      "text/plain": [
       "<matplotlib.figure.Figure at 0x10b8cdb10>"
      ]
     },
     "metadata": {},
     "output_type": "display_data"
    },
    {
     "name": "stdout",
     "output_type": "stream",
     "text": [
      "Corelation between ease and popularity: 74.4624494725%\n"
     ]
    },
    {
     "data": {
      "image/png": "[encoded data removed]",
      "text/plain": [
       "<matplotlib.figure.Figure at 0x1166611d0>"
      ]
     },
     "metadata": {},
     "output_type": "display_data"
    }
   ],
   "source": [
    "print \"Distribution of answerability\"\n",
    "plt.hist(question_info['answerability'], bins=10)\n",
    "plt.show()"
   ]
  },
  {
   "cell_type": "code",
   "execution_count": 394,
   "metadata": {
    "collapsed": false
   },
   "outputs": [
    {
     "name": "stdout",
     "output_type": "stream",
     "text": [
      "Distribution of tags\n"
     ]
    },
    {
     "data": {
      "image/png": "[encoded data removed]",
      "text/plain": [
       "<matplotlib.figure.Figure at 0x1147ee590>"
      ]
     },
     "metadata": {},
     "output_type": "display_data"
    }
   ],
   "source": [
    "print \"Distribution of tags\"\n",
    "plt.hist(question_info['tag'], bins=10)\n",
    "plt.show()"
   ]
  },
  {
   "cell_type": "code",
   "execution_count": 390,
   "metadata": {
    "collapsed": false
   },
   "outputs": [
    {
     "name": "stdout",
     "output_type": "stream",
     "text": [
      "Corelation between ease and popularity: 74.4624494725%\n"
     ]
    },
    {
     "data": {
      "image/png": "[encoded data removed]",
      "text/plain": [
       "<matplotlib.figure.Figure at 0x1082fce10>"
      ]
     },
     "metadata": {},
     "output_type": "display_data"
    },
    {
     "name": "stdout",
     "output_type": "stream",
     "text": [
      "Variation of correlation between ease and popularity WRT answerability\n"
     ]
    },
    {
     "data": {
      "image/png": "[encoded data removed]",
      "text/plain": [
       "<matplotlib.figure.Figure at 0x1097d2750>"
      ]
     },
     "metadata": {},
     "output_type": "display_data"
    },
    {
     "name": "stdout",
     "output_type": "stream",
     "text": [
      "Answerability = 0.2 splits the dataset into 2 parts highly coreelated sets\n"
     ]
    }
   ],
   "source": [
    "ease_vs_popularity = np.corrcoef(question_info['ease'], question_info['popularity'])[ 0, 1]\n",
    "print \"Corelation between ease and popularity: {0}%\".format(ease_vs_popularity * 100)\n",
    "plt.plot(question_info['popularity'], question_info['ease'], \"o\", ms=2.5, alpha=0.5)\n",
    "plt.show()\n",
    "\n",
    "print \"Variation of correlation between ease and popularity WRT answerability\"\n",
    "k = np.linspace(0, 1, num=20)\n",
    "subs1 = lambda v: question_info[ question_info.answerability <= v  ]\n",
    "subs2 = lambda v: question_info[ question_info.answerability > v   ]\n",
    "ease_vs_popularity_1 = map(lambda v: np.corrcoef(subs1(v)['ease'], subs1(v)['popularity'])[ 0, 1], k)\n",
    "ease_vs_popularity_2 = map(lambda v: np.corrcoef(subs2(v)['ease'], subs2(v)['popularity'])[ 0, 1], k)\n",
    "\n",
    "plt.plot(k, ease_vs_popularity_1)\n",
    "plt.plot(k, ease_vs_popularity_2)\n",
    "plt.show()\n",
    "\n",
    "print \"Answerability = 0.2 splits the dataset into 2 parts highly coreelated sets\""
   ]
  },
  {
   "cell_type": "code",
   "execution_count": 12,
   "metadata": {
    "collapsed": false
   },
   "outputs": [
    {
     "name": "stdout",
     "output_type": "stream",
     "text": [
      "0.273996294009\n"
     ]
    }
   ],
   "source": [
    "# print float(len( user_info[user_info.answered == 0] )) / len ( user_info )\n",
    "print float(len( question_info[question_info.answered == 0] )) / len ( question_info )\n",
    "\n",
    "# print float(len(question_info[question_info.answers == 0])) / len ( question_info )"
   ]
  }
 ],
 "metadata": {
  "anaconda-cloud": {},
  "kernelspec": {
   "display_name": "Python [Root]",
   "language": "python",
   "name": "Python [Root]"
  },
  "language_info": {
   "codemirror_mode": {
    "name": "ipython",
    "version": 2
   },
   "file_extension": ".py",
   "mimetype": "text/x-python",
   "name": "python",
   "nbconvert_exporter": "python",
   "pygments_lexer": "ipython2",
   "version": "2.7.12"
  }
 },
 "nbformat": 4,
 "nbformat_minor": 0
}
